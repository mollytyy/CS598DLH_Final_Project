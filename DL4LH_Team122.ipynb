{
 "cells": [
  {
   "cell_type": "markdown",
   "id": "9d43a041",
   "metadata": {},
   "source": [
    "# CS 598 DLH Final Project\n",
    "## Conditional Graph Information Bottleneck for Molecular Relational Learning"
   ]
  },
  {
   "cell_type": "markdown",
   "id": "730e7f56",
   "metadata": {},
   "source": [
    "## Introduction\n",
    "With its extensive and complex datasets, the expanding field of molecular biology presents significant challenges for traditional computational analysis methods. Deep learning (DL) provides robust frameworks for managing these complexities, aiding progress in understanding molecular structures and their interactions. A notable contribution in this area is the \"Conditional Graph Information Bottleneck for Molecular Relational Learning,\" which utilizes the principles of information bottleneck theory within graph neural networks (GNNs) for molecular data analysis [8, 9]. This method is a considerable advancement in computational biology, offering a sophisticated approach to extracting relevant information from molecular structures and their relational data.  \n",
    "\n",
    "Molecular relational learning is a key challenge in computational biology, addressing the complex network of relationships and properties found in molecular data[12]. The authors of the study introduce a new architecture that effectively extracts and processes this molecular information, providing insights into molecular properties and interactions. Their work, based on deep learning and graph neural networks, not only shows how deep learning can improve our understanding of molecular systems but also sets a new benchmark for future studies in this area.\n",
    "\n",
    "This project is motivated by the essential need to assess and understand the methodologies introduced in the paper[1]. By replicating the original study's experiments and examining additional applications of the proposed architecture, this project target to confirm the original findings and explore the model's applicability to various molecular datasets. The objective is to deepen our knowledge of how Deep Learning can be applied to understand molecular structures and their properties, thereby making a valuable contribution to the fields of computational biology and molecular research.  \n",
    "\n",
    "The Conditional Graph Information Bottleneck (CGIB) approach introduces a new method for analyzing molecular data, balancing detailed analysis with the practical limits of computational resources[1]. This project builds upon this foundation, testing the CGIB model's robustness with different molecular datasets and applying it to new challenges within molecular biology. By thoroughly replicating and evaluating the original work, this project allows us gain a deep understanding of ongoing research on deep learning's potential to address the complexities of molecular science. "
   ]
  },
  {
   "cell_type": "markdown",
   "id": "12beab95",
   "metadata": {},
   "source": [
    "## Scope of Reproducibility\n",
    "\n",
    "In this section, we will validate the claims made by the CGIB paper through a series of experiments designed to test the framework's applicability and effectiveness across different molecular relational learning tasks. Specifically, we focus on the following experiments as outlined in the original work:\n",
    "1. DrugDrugInteraction: This experiment investigates the potential of CGIB in predicting interactions between drug pairs, a crucial task in drug discovery and safety assessment.\n",
    "2. MolecularInteraction: Here, the focus is on understanding the interactions between molecules, which is vital for applications in material science and chemical engineering.\n",
    "3. SimilarityLearning: This task explores the framework's ability to learn and quantify the similarity between molecular structures, an essential aspect of computational chemistry for clustering, searching, and predicting molecular properties.\n",
    "\n",
    "\n",
    "For each of these experiments, we will test the following hypotheses derived from the paper:\n",
    "Hypothesis 1: CGIB can identify core subgraphs within molecular pairs that are crucial for predicting their interaction behavior, outperforming baseline methods that do not condition on the interaction partner.\n",
    "Hypothesis 2: The performance improvements offered by CGIB are consistent across different molecular relational learning tasks, including but not limited to solubility prediction, reaction outcome prediction, and drug-drug interaction prediction.\n",
    "\n",
    "\n",
    "To test these hypotheses, we will replicate the experiments conducted in the original paper, focusing on the following aspects:\n",
    "1. Data: Utilize the same or a subset of the datasets used in the paper to ensure comparability.\n",
    "2. Model Implementation: Reconstruct the CGIB model based on the descriptions and code provided in the paper.\n",
    "3. Training: Follow the training procedures outlined in the paper, including computational requirements.\n",
    "4. Evaluation: Apply the same metrics used in the paper to assess model performance.\n",
    "\n",
    "Through this reproducibility study, we aim to assess the robustness and generalizability of the CGIB method, contributing to a deeper understanding of its strengths and limitations."
   ]
  },
  {
   "cell_type": "markdown",
   "id": "57d4496e",
   "metadata": {},
   "source": [
    "## DrugDrugInteraction"
   ]
  },
  {
   "cell_type": "code",
   "execution_count": 2,
   "id": "8870248c",
   "metadata": {
    "tags": []
   },
   "outputs": [],
   "source": [
    "import pandas as pd\n",
    "import time\n",
    "import torch\n",
    "import torch.nn as nn\n",
    "import torch.nn.functional as F\n",
    "\n",
    "from DrugDrugInteraction.data import build_dataset\n",
    "from DrugDrugInteraction.utils import get_stats, write_summary, write_summary_total\n",
    "from torch import optim\n",
    "from torch.optim.lr_scheduler import ReduceLROnPlateau\n",
    "from torch_geometric.nn import Set2Set\n",
    "from DrugDrugInteraction.embedder import embedder\n",
    "from DrugDrugInteraction.layers import GINE\n",
    "from DrugDrugInteraction.utils import create_batch_mask\n",
    "from torch_scatter import scatter_mean, scatter_add, scatter_std\n"
   ]
  },
  {
   "attachments": {},
   "cell_type": "markdown",
   "id": "4088c78f-0eb8-4c7f-a115-dcb9bbb6ec6d",
   "metadata": {},
   "source": [
    "#### Data descriptions\n",
    "Drug Drug Interaction uses dataset from [MIRACLE](https://github.com/isjakewong/MIRACLE/tree/main/MIRACLE/datachem) Multi-view Graph Contrastive Representation Learning for Drug-drug Interaction Prediction. This dataset contains 548 drugs and 48,548 pairwise DDI and multiple types of similarity information\n",
    "about these drug pairs.\n",
    "\n",
    "Example of the dataset\n",
    "| drugbank_id_1\t| drugbank_id_2 | smiles_2 | smiles_1 | cid_1 | cid_2 | label |\n",
    "| --- | --- | --- | --- | --- | --- | --- |\n",
    "| DB00492 | DB00252 | O=C1NC(=O)C(N1)(C1=CC=CC=C1)C1=CC=CC=C1 | CCC(=O)O[C@@H](O[P@](=O)(CCCCC1=CC=CC=C1)CC(=O)N1C[C@@H] (C[C@H]1C(O)=O)C1CCCCC1)C(C)C | CID000003419 | CID000001775 | 1 |\n",
    "| DB00633 | DB01216 | [H][C@@]12CC[C@H](C(=O)NC(C)(C)C)[C@@]1(C)CC[C@@]1([H])[C@@]2([H])CC[C@@]2([H])NC(=O)C=C[C@]12C | C[C@H](C1=CNC=N1)C1=C(C)C(C)=CC=C1 | CID000060612 | CID000003350 | 0 |\n",
    "\n",
    "First, we create three .pt files (train, valid, test) and save them in the \"processed\" folder. This might take a couple minutes"
   ]
  },
  {
   "cell_type": "code",
   "execution_count": 3,
   "id": "a39ce258-95d3-455f-ac71-119a81a9263e",
   "metadata": {},
   "outputs": [],
   "source": [
    "ddi_dataset = \"ZhangDDI\"  # ZhangDDI or ChChMiner"
   ]
  },
  {
   "cell_type": "code",
   "execution_count": 8,
   "id": "3a7a4aa7-a0d6-4714-a251-367eb05bef63",
   "metadata": {},
   "outputs": [
    {
     "name": "stderr",
     "output_type": "stream",
     "text": [
      "100%|███████████████████████████████████████████████████████████████████████████| 76518/76518 [03:55<00:00, 325.15it/s]\n",
      "100%|███████████████████████████████████████████████████████████████████████████| 18727/18727 [00:57<00:00, 323.42it/s]\n",
      "100%|███████████████████████████████████████████████████████████████████████████| 18727/18727 [00:56<00:00, 328.90it/s]\n"
     ]
    }
   ],
   "source": [
    "df = pd.read_csv(f'./DrugDrugInteraction/data/raw_data/{ddi_dataset}_train.csv', sep=\",\")\n",
    "processed_data, dataset = build_dataset(df, \"smiles_1\", \"smiles_2\", \"label\")\n",
    "torch.save(processed_data, f\"./DrugDrugInteraction/data/processed/{ddi_dataset}_train.pt\")\n",
    "\n",
    "df = pd.read_csv(f'./DrugDrugInteraction/data/raw_data/{ddi_dataset}_valid.csv', sep=\",\")\n",
    "processed_data, dataset = build_dataset(df, \"smiles_1\", \"smiles_2\", \"label\")\n",
    "torch.save(processed_data, f\"./DrugDrugInteraction/data/processed/{ddi_dataset}_valid.pt\")\n",
    "\n",
    "df = pd.read_csv(f'./DrugDrugInteraction/data/raw_data/{ddi_dataset}_test.csv', sep=\",\")\n",
    "processed_data, dataset = build_dataset(df, \"smiles_1\", \"smiles_2\", \"label\")\n",
    "torch.save(processed_data, f\"./DrugDrugInteraction/data/processed/{ddi_dataset}_test.pt\")"
   ]
  },
  {
   "cell_type": "markdown",
   "id": "3908f295-51a1-4b33-b451-be509fc7c75f",
   "metadata": {},
   "source": [
    "#### Define hyperparameters\n",
    "The paper used 500 to 10000 epochs. We will be using 10 or less for this project due to time constraints."
   ]
  },
  {
   "cell_type": "code",
   "execution_count": 4,
   "id": "830acd70-cb89-4ce7-866a-90d7ac854d1c",
   "metadata": {},
   "outputs": [],
   "source": [
    "lr = 0.001        # Learning rate for training the model\n",
    "epochs = 10       # Number of epochs for training the model\n",
    "beta = 1.0        # Hyperparameters for balance the trade-off between prediction and compression\n",
    "tau = 1.0         # Temperature hyperparameter for CGIB_cont\n",
    "device = 0        # gpu device"
   ]
  },
  {
   "cell_type": "markdown",
   "id": "44d5b231-e369-4a9f-8b9a-715abb83dfb5",
   "metadata": {},
   "source": [
    "#### Load Dataset\n",
    "This it might take around 20 seconds."
   ]
  },
  {
   "cell_type": "code",
   "execution_count": 5,
   "id": "8326218e-fc1d-4c18-88ae-b5e411e5c63a",
   "metadata": {},
   "outputs": [
    {
     "name": "stdout",
     "output_type": "stream",
     "text": [
      "Loading dataset...\n",
      "Dataset Loaded! (17.5887 sec)\n"
     ]
    }
   ],
   "source": [
    "print(\"Loading dataset...\")\n",
    "start = time.time()\n",
    "\n",
    "# Load dataset\n",
    "train_set = torch.load(\"./DrugDrugInteraction/data/processed/{}_train.pt\".format(ddi_dataset))\n",
    "valid_set = torch.load(\"./DrugDrugInteraction/data/processed/{}_valid.pt\".format(ddi_dataset)) \n",
    "test_set = torch.load(\"./DrugDrugInteraction/data/processed/{}_test.pt\".format(ddi_dataset))\n",
    "\n",
    "print(\"Dataset Loaded! ({:.4f} sec)\".format(time.time() - start))"
   ]
  },
  {
   "attachments": {
    "image-2.png": {
     "image/png": "[encoded data removed]"
    }
   },
   "cell_type": "markdown",
   "id": "60c17dd0",
   "metadata": {},
   "source": [
    "## Methodology\n",
    "### CGIB Model\n",
    "#### Model Descriptions\n",
    "A CIB-Graph is defined as the optimal graph discovered given a pair of graphs and its label information. \n",
    "![image-2.png](attachment:image-2.png)"
   ]
  },
  {
   "cell_type": "code",
   "execution_count": 6,
   "id": "bdb8c6a2",
   "metadata": {},
   "outputs": [],
   "source": [
    "class CGIB(nn.Module):\n",
    "    \"\"\"\n",
    "    This the main class for CIGIN model\n",
    "    \"\"\"\n",
    "\n",
    "    def __init__(self,\n",
    "                device,\n",
    "                node_input_dim=133,\n",
    "                edge_input_dim=14,\n",
    "                node_hidden_dim=300,\n",
    "                edge_hidden_dim=300,\n",
    "                num_step_message_passing=3,\n",
    "                interaction='dot',\n",
    "                num_step_set2_set=2,\n",
    "                num_layer_set2set=1,\n",
    "                ):\n",
    "        super(CGIB, self).__init__()\n",
    "\n",
    "        self.device = device\n",
    "\n",
    "        self.node_input_dim = node_input_dim\n",
    "        self.node_hidden_dim = node_hidden_dim\n",
    "        self.edge_input_dim = edge_input_dim\n",
    "        self.edge_hidden_dim = edge_hidden_dim\n",
    "        self.num_step_message_passing = num_step_message_passing\n",
    "        self.interaction = interaction\n",
    "\n",
    "        self.gather = GINE(self.node_input_dim, self.edge_input_dim, \n",
    "                            self.node_hidden_dim, self.num_step_message_passing,\n",
    "                            )\n",
    "\n",
    "        self.predictor = nn.Linear(8 * self.node_hidden_dim, 1)\n",
    "\n",
    "        self.compressor = nn.Sequential(\n",
    "            nn.Linear(2 * self.node_hidden_dim, self.node_hidden_dim),\n",
    "            nn.BatchNorm1d(self.node_hidden_dim),\n",
    "            nn.ReLU(),\n",
    "            nn.Linear(self.node_hidden_dim, 1)\n",
    "            )\n",
    "        \n",
    "        self.solvent_predictor = nn.Linear(4 * self.node_hidden_dim, 4 * self.node_hidden_dim)\n",
    "        \n",
    "        self.mse_loss = torch.nn.MSELoss()\n",
    "\n",
    "        self.num_step_set2set = num_step_set2_set\n",
    "        self.num_layer_set2set = num_layer_set2set\n",
    "        self.set2set = Set2Set(2 * node_hidden_dim, self.num_step_set2set, self.num_layer_set2set)\n",
    "\n",
    "        self.init_model()\n",
    "    \n",
    "    def init_model(self):\n",
    "        for m in self.modules():\n",
    "            if isinstance(m, nn.Linear):\n",
    "                torch.nn.init.xavier_uniform_(m.weight.data)\n",
    "                if m.bias is not None:\n",
    "                    m.bias.data.fill_(0.0)\n",
    "    \n",
    "    def compress(self, solute_features):\n",
    "        \n",
    "        p = self.compressor(solute_features)\n",
    "        temperature = 1.0\n",
    "        bias = 0.0 + 0.0001  # If bias is 0, we run into problems\n",
    "        eps = (bias - (1 - bias)) * torch.rand(p.size()) + (1 - bias)\n",
    "        gate_inputs = torch.log(eps) - torch.log(1 - eps)\n",
    "        gate_inputs = gate_inputs.to(self.device)\n",
    "        gate_inputs = (gate_inputs + p) / temperature\n",
    "        gate_inputs = torch.sigmoid(gate_inputs).squeeze()\n",
    "\n",
    "        return gate_inputs, p\n",
    "    \n",
    "    def forward(self, data, bottleneck = False, test = False):\n",
    "        solute = data[0]\n",
    "        solvent = data[1]\n",
    "        solute_len = data[2]\n",
    "        solvent_len = data[3]\n",
    "        # node embeddings after interaction phase\n",
    "        solute_features = self.gather(solute)\n",
    "        solvent_features = self.gather(solvent)\n",
    "\n",
    "        # Add normalization\n",
    "        self.solute_features = F.normalize(solute_features, dim = 1)\n",
    "        self.solvent_features = F.normalize(solvent_features, dim = 1)\n",
    "\n",
    "        # Interaction phase\n",
    "        len_map = torch.sparse.mm(solute_len.t(), solvent_len)\n",
    "\n",
    "        interaction_map = torch.mm(self.solute_features, self.solvent_features.t())\n",
    "        ret_interaction_map = torch.clone(interaction_map)\n",
    "        ret_interaction_map = interaction_map * len_map.to_dense()\n",
    "        interaction_map = interaction_map * len_map.to_dense()\n",
    "\n",
    "        self.solvent_prime = torch.mm(interaction_map.t(), self.solute_features)\n",
    "        self.solute_prime = torch.mm(interaction_map, self.solvent_features)\n",
    "\n",
    "        # Prediction phase\n",
    "        self.solute_features = torch.cat((self.solute_features, self.solute_prime), dim=1)\n",
    "        self.solvent_features = torch.cat((self.solvent_features, self.solvent_prime), dim=1)\n",
    "\n",
    "        if test:\n",
    "\n",
    "            _, self.importance = self.compress(self.solute_features)\n",
    "            self.importance = torch.sigmoid(self.importance)\n",
    "\n",
    "        if bottleneck:\n",
    "\n",
    "            lambda_pos, p = self.compress(self.solute_features)\n",
    "            lambda_pos = lambda_pos.reshape(-1, 1)\n",
    "            lambda_neg = 1 - lambda_pos\n",
    "\n",
    "            # Get Stats\n",
    "            preserve_rate = (torch.sigmoid(p) > 0.5).float().mean()\n",
    "\n",
    "            static_solute_feature = self.solute_features.clone().detach()\n",
    "            node_feature_mean = scatter_mean(static_solute_feature, solute.batch, dim = 0)[solute.batch]\n",
    "            node_feature_std = scatter_std(static_solute_feature, solute.batch, dim = 0)[solute.batch]\n",
    "            # node_feature_std, node_feature_mean = torch.std_mean(static_solute_feature, dim=0)\n",
    "            \n",
    "            noisy_node_feature_mean = lambda_pos * self.solute_features + lambda_neg * node_feature_mean\n",
    "            noisy_node_feature_std = lambda_neg * node_feature_std\n",
    "\n",
    "            noisy_node_feature = noisy_node_feature_mean + torch.rand_like(noisy_node_feature_mean) * noisy_node_feature_std\n",
    "            noisy_solute_subgraphs = self.set2set(noisy_node_feature, solute.batch)\n",
    "\n",
    "            epsilon = 1e-7\n",
    "\n",
    "            KL_tensor = 0.5 * scatter_add(((noisy_node_feature_std ** 2) / (node_feature_std + epsilon) ** 2).mean(dim = 1), solute.batch).reshape(-1, 1) + \\\n",
    "                        scatter_add((((noisy_node_feature_mean - node_feature_mean)/(node_feature_std + epsilon)) ** 2), solute.batch, dim = 0)\n",
    "            KL_Loss = torch.mean(KL_tensor)\n",
    "            \n",
    "            # Predict Solvent\n",
    "            self.solvent_features_s2s = self.set2set(self.solvent_features, solvent.batch)\n",
    "            solvent_pred_loss = self.mse_loss(self.solvent_features_s2s, self.solvent_predictor(noisy_solute_subgraphs))\n",
    "\n",
    "            # Prediction Y\n",
    "            final_features = torch.cat((noisy_solute_subgraphs, self.solvent_features_s2s), 1)\n",
    "            predictions = self.predictor(final_features)\n",
    "\n",
    "            return predictions, KL_Loss, solvent_pred_loss, preserve_rate\n",
    "        \n",
    "        else:\n",
    "\n",
    "            self.solute_features_s2s = self.set2set(self.solute_features, solute.batch)\n",
    "            self.solvent_features_s2s = self.set2set(self.solvent_features, solvent.batch)\n",
    "\n",
    "            final_features = torch.cat((self.solute_features_s2s, self.solvent_features_s2s), 1)\n",
    "            predictions = self.predictor(final_features)\n",
    "\n",
    "            if test:\n",
    "                return torch.sigmoid(predictions), ret_interaction_map\n",
    "\n",
    "            else:\n",
    "                return predictions, ret_interaction_map"
   ]
  },
  {
   "cell_type": "code",
   "execution_count": 9,
   "id": "75071ece",
   "metadata": {},
   "outputs": [],
   "source": [
    "class CGIB_ModelTrainer(embedder):\n",
    "    def __init__(self, train_df, valid_df, test_df, repeat, fold):\n",
    "        embedder.__init__(self, train_df, valid_df, test_df, repeat, fold)\n",
    "\n",
    "        self.model = CGIB(device).to(device)\n",
    "        self.optimizer = optim.Adam(params = self.model.parameters(), lr = lr)\n",
    "        self.scheduler = ReduceLROnPlateau(self.optimizer, mode='max', verbose=True)\n",
    "        \n",
    "    def train(self):        \n",
    "\n",
    "        loss_function_BCE = nn.BCEWithLogitsLoss(reduction='none')\n",
    "\n",
    "        for epoch in range(1, epochs + 1):\n",
    "            self.model.train()\n",
    "            self.train_loss = 0\n",
    "            preserve = 0\n",
    "\n",
    "            start = time.time()\n",
    "\n",
    "            for bc, samples in enumerate(self.train_loader):\n",
    "                self.optimizer.zero_grad()\n",
    "                masks = create_batch_mask(samples)\n",
    "                \n",
    "                outputs, _ = self.model([samples[0].to(self.device), samples[1].to(self.device), masks[0].to(self.device), masks[1].to(self.device)])\n",
    "                loss = loss_function_BCE(outputs, samples[2].reshape(-1, 1).to(self.device).float()).mean()\n",
    "\n",
    "                # Information Bottleneck\n",
    "                outputs, KL_Loss, solvent_pred_loss, preserve_rate = self.model([samples[0].to(self.device), samples[1].to(self.device), masks[0].to(self.device), masks[1].to(self.device)], bottleneck = True)\n",
    "                loss += loss_function_BCE(outputs, samples[2].reshape(-1, 1).to(self.device).float()).mean()\n",
    "                loss += beta * KL_Loss\n",
    "                loss += beta * solvent_pred_loss\n",
    "\n",
    "                loss.backward()\n",
    "                self.optimizer.step()\n",
    "                self.train_loss += loss\n",
    "                preserve += preserve_rate\n",
    "            \n",
    "            self.epoch_time = time.time() - start\n",
    "\n",
    "            self.model.eval()\n",
    "            self.evaluate(epoch)\n",
    "\n",
    "            self.scheduler.step(self.val_roc_score)\n",
    "\n",
    "            # Write Statistics\n",
    "            self.writer.add_scalar(\"stats/preservation\", preserve/bc, epoch)\n",
    "\n",
    "        self.evaluate(epoch, final = True)\n",
    "        self.writer.close()\n",
    "        \n",
    "        return self.best_test_roc, self.best_test_ap, self.best_test_f1, self.best_test_acc"
   ]
  },
  {
   "cell_type": "markdown",
   "id": "4a725810-fb6e-4453-a8a0-2ced7ea00dec",
   "metadata": {},
   "source": [
    "#### Training"
   ]
  },
  {
   "cell_type": "code",
   "execution_count": null,
   "id": "57b65536-9e7e-4151-8f73-1970ef7d0749",
   "metadata": {},
   "outputs": [
    {
     "name": "stdout",
     "output_type": "stream",
     "text": [
      "\n",
      "[Config] embedder_CGIB_lr_0.001_batch_size_512_dataset_ZhangDDI_beta_1.0\n",
      "\n",
      "[Epoch: 1 (602.5114 sec)] Valid ROC: 0.5426 / AP: 0.3072 / F1: 0.4439 / Acc: 0.4327 || Test ROC: 0.5490 / AP: 0.2419 / F1: 0.3746 / Acc: 0.4078 \n",
      "[Best ROC Epoch: 1] Best Valid ROC: 0.5426 / AP: 0.3072 || Best Test ROC: 0.5490 / AP: 0.2419 \n",
      "[Best F1 Epoch: 1] Best Valid F1: 0.4439 / Acc: 0.4327 || Best Test F1: 0.3746 / Acc: 0.4078 \n"
     ]
    }
   ],
   "source": [
    "def summary(train_df, valid_df, test_df, repeat = 0, fold = 0):\n",
    "    embedder = CGIB_ModelTrainer(train_df, valid_df, test_df, repeat, fold)\n",
    "    best_roc, best_ap, best_f1, best_acc = embedder.train()\n",
    "\n",
    "    return [best_roc, best_ap, best_f1, best_acc], embedder.config_str, embedder.best_config_roc, embedder.best_config_f1\n",
    "\n",
    "best_rocs, best_aps, best_f1s, best_accs = [], [], [], []\n",
    "\n",
    "stats, config_str, _, _ = summary(train_set, valid_set, test_set)\n",
    "\n",
    "# get stats\n",
    "best_rocs.append(stats[0])\n",
    "best_aps.append(stats[1])\n",
    "best_f1s.append(stats[2])\n",
    "best_accs.append(stats[3])\n",
    "\n",
    "write_summary(dataset, embedder, config_str, stats)"
   ]
  },
  {
   "cell_type": "markdown",
   "id": "9e2d2d93",
   "metadata": {},
   "source": [
    "#### Evaluation"
   ]
  },
  {
   "cell_type": "code",
   "execution_count": null,
   "id": "1fce05ec-d610-4018-ac65-6fbf13fe6c28",
   "metadata": {
    "scrolled": true
   },
   "outputs": [],
   "source": [
    "roc_mean, roc_std = get_stats(best_rocs)\n",
    "ap_mean, ap_std = get_stats(best_aps)\n",
    "f1_mean, f1_std = get_stats(best_f1s)\n",
    "accs_mean, accs_std = get_stats(best_accs)\n",
    "\n",
    "write_summary_total(dataset, embedder, config_str, [roc_mean, roc_std, ap_mean, ap_std, f1_mean, f1_std, accs_mean, accs_std])"
   ]
  },
  {
   "cell_type": "markdown",
   "id": "a7d29853",
   "metadata": {},
   "source": [
    "## Results"
   ]
  },
  {
   "cell_type": "code",
   "execution_count": null,
   "id": "144c81d7",
   "metadata": {},
   "outputs": [],
   "source": []
  },
  {
   "cell_type": "code",
   "execution_count": null,
   "id": "3205947f",
   "metadata": {},
   "outputs": [],
   "source": []
  },
  {
   "cell_type": "markdown",
   "id": "2b06f2d7",
   "metadata": {},
   "source": [
    "### Citations\n",
    "<br> [1]  Bai, Y., Ding, H., Bian, S., Chen, T., Sun, Y., and Wang, W. Simgnn: A neural network approach to fast graph similarity computation. In Proceedings of the Twelfth ACM International Conference on Web Search and Data Mining, pp. 384–392, 2019. </br>\n",
    "<br>[2]  Joung, J. F., Han, M., Hwang, J., Jeong, M., Choi, D. H., and Park, S. Deep learning optical spectroscopy based on experimental database: Potential applications to molecular design. JACS Au, 1(4):427–438, 2021. </br>\n",
    "<br>[3]  Lim, H. and Jung, Y. Delfos: deep learning model for prediction of solvation free energies in generic organic solvents. Chemical science, 10(36):8306–8315, 2019 </br>\n",
    "<br>[4]  Namkyeong Lee, Dongmin Hyun, Gyoung S. Na, Sungwon Kim, Junseok Lee, and Chanyoung Park. \"Conditional Graph Information Bottleneck for Molecular Relational Learning.\" ICML 2023. </br>\n",
    "<br>[5] Tishby, N., Pereira, F. C., and Bialek, W. The information bottleneck method. arXiv preprint physics/0004057, 2000.\n",
    "<br>[6]  Wang, Y., Min, Y., Chen, X., and Wu, J. Multi-view graph contrastive representation learning for drug-drug interaction prediction. In Proceedings of the Web Conference 2021, pp. 2921–2933, 2021. </br>\n",
    "<br>[7]  Xu, X., Liu, C., Feng, Q., Yin, H., Song, L., and Song, D. Neural network-based graph embedding for crossplatform binary code similarity detection. In Proceedings of the 2017 ACM SIGSAC Conference on Computer and Communications Security, pp. 363–376, 2017. </br>\n",
    "<br>[8] Yu, J., Cao, J., and He, R. Improving subgraph recogni- tion with variational graph information bottleneck. In Proceedings of the IEEE/CVF Conference on Computer Vision and Pattern Recognition, pp. 19396–19405, 2022. </br>\n",
    "<br>[9] Zhang, Z., Bu, J., Ester, M., Li, Z., Yao, C., Yu, Z., and Wang, C. H2mn: Graph similarity learning with hierar- chical hypergraph matching networks. In Proceedings of the 27th ACM SIGKDD Conference on Knowledge Discovery & Data Mining, pp. 2274–2284, 2021. </br>\n",
    "<br>[10] Zhang, W., Chen, Y., Liu, F., Luo, F., Tian, G., and Li, X. Predicting potential drug-drug interactions by integrating chemical, biological, phenotypic and network data. BMC bioinformatics, 18(1):1–12, 2017. </br>\n",
    "<br>[11] Purser, S., Moore, P. R., Swallow, S., and Gouverneur, V. Fluorine in medicinal chemistry. Chemical Society Re- views, 37(2):320–330, 2008. </br>\n",
    "<br>[12] Joung, J. F., Han, M., Hwang, J., Jeong, M., Choi, D. H., and Park, S. Deep learning optical spectroscopy based on ex- perimental database: Potential applications to molecular design. JACS Au, 1(4):427–438, 2021. </br>\n",
    "<br>[13] Namkyeong Lee, Dongmin Hyun, Gyoung S. Na, Sungwon Kim, Junseok Lee, Chanyoung Park. Conditional Graph Information Bottleneck for Molecular Relational Learning, 2305.01520, 2023 </br>"
   ]
  },
  {
   "cell_type": "code",
   "execution_count": null,
   "id": "b46d0d5a",
   "metadata": {},
   "outputs": [],
   "source": []
  }
 ],
 "metadata": {
  "kernelspec": {
   "display_name": "Python 3 (ipykernel)",
   "language": "python",
   "name": "python3"
  },
  "language_info": {
   "codemirror_mode": {
    "name": "ipython",
    "version": 3
   },
   "file_extension": ".py",
   "mimetype": "text/x-python",
   "name": "python",
   "nbconvert_exporter": "python",
   "pygments_lexer": "ipython3",
   "version": "3.7.10"
  }
 },
 "nbformat": 4,
 "nbformat_minor": 5
}
